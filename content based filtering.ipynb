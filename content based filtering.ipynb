{
 "cells": [
  {
   "cell_type": "code",
   "execution_count": 1,
   "id": "78710697",
   "metadata": {},
   "outputs": [
    {
     "data": {
      "text/html": [
       "<div>\n",
       "<style scoped>\n",
       "    .dataframe tbody tr th:only-of-type {\n",
       "        vertical-align: middle;\n",
       "    }\n",
       "\n",
       "    .dataframe tbody tr th {\n",
       "        vertical-align: top;\n",
       "    }\n",
       "\n",
       "    .dataframe thead th {\n",
       "        text-align: right;\n",
       "    }\n",
       "</style>\n",
       "<table border=\"1\" class=\"dataframe\">\n",
       "  <thead>\n",
       "    <tr style=\"text-align: right;\">\n",
       "      <th></th>\n",
       "      <th>ID</th>\n",
       "      <th>Box Office</th>\n",
       "      <th>For Children</th>\n",
       "      <th>Oscar</th>\n",
       "    </tr>\n",
       "    <tr>\n",
       "      <th>Film</th>\n",
       "      <th></th>\n",
       "      <th></th>\n",
       "      <th></th>\n",
       "      <th></th>\n",
       "    </tr>\n",
       "  </thead>\n",
       "  <tbody>\n",
       "    <tr>\n",
       "      <th>Cronos</th>\n",
       "      <td>1</td>\n",
       "      <td>2</td>\n",
       "      <td>1</td>\n",
       "      <td>1</td>\n",
       "    </tr>\n",
       "    <tr>\n",
       "      <th>Life of Brain</th>\n",
       "      <td>2</td>\n",
       "      <td>3</td>\n",
       "      <td>3</td>\n",
       "      <td>1</td>\n",
       "    </tr>\n",
       "    <tr>\n",
       "      <th>The Never-ending Story</th>\n",
       "      <td>3</td>\n",
       "      <td>2</td>\n",
       "      <td>5</td>\n",
       "      <td>1</td>\n",
       "    </tr>\n",
       "    <tr>\n",
       "      <th>Pinocchio</th>\n",
       "      <td>4</td>\n",
       "      <td>3</td>\n",
       "      <td>5</td>\n",
       "      <td>5</td>\n",
       "    </tr>\n",
       "    <tr>\n",
       "      <th>Titanic</th>\n",
       "      <td>5</td>\n",
       "      <td>5</td>\n",
       "      <td>2</td>\n",
       "      <td>5</td>\n",
       "    </tr>\n",
       "  </tbody>\n",
       "</table>\n",
       "</div>"
      ],
      "text/plain": [
       "                        ID  Box Office  For Children  Oscar\n",
       "Film                                                       \n",
       "Cronos                   1           2             1      1\n",
       "Life of Brain            2           3             3      1\n",
       "The Never-ending Story   3           2             5      1\n",
       "Pinocchio                4           3             5      5\n",
       "Titanic                  5           5             2      5"
      ]
     },
     "execution_count": 1,
     "metadata": {},
     "output_type": "execute_result"
    }
   ],
   "source": [
    "import pandas as pd\n",
    "films=pd.read_csv(r\"C:\\Users\\archa\\OneDrive\\Desktop\\Downloads\\FilmCB.csv\",index_col=1)\n",
    "films"
   ]
  },
  {
   "cell_type": "code",
   "execution_count": 2,
   "id": "2eb57bf8",
   "metadata": {},
   "outputs": [
    {
     "data": {
      "text/html": [
       "<div>\n",
       "<style scoped>\n",
       "    .dataframe tbody tr th:only-of-type {\n",
       "        vertical-align: middle;\n",
       "    }\n",
       "\n",
       "    .dataframe tbody tr th {\n",
       "        vertical-align: top;\n",
       "    }\n",
       "\n",
       "    .dataframe thead th {\n",
       "        text-align: right;\n",
       "    }\n",
       "</style>\n",
       "<table border=\"1\" class=\"dataframe\">\n",
       "  <thead>\n",
       "    <tr style=\"text-align: right;\">\n",
       "      <th></th>\n",
       "      <th>ID</th>\n",
       "      <th>Box Office</th>\n",
       "      <th>For Children</th>\n",
       "      <th>Oscar</th>\n",
       "    </tr>\n",
       "    <tr>\n",
       "      <th>Film</th>\n",
       "      <th></th>\n",
       "      <th></th>\n",
       "      <th></th>\n",
       "      <th></th>\n",
       "    </tr>\n",
       "  </thead>\n",
       "  <tbody>\n",
       "    <tr>\n",
       "      <th>Graham</th>\n",
       "      <td>a</td>\n",
       "      <td>4</td>\n",
       "      <td>2</td>\n",
       "      <td>5</td>\n",
       "    </tr>\n",
       "    <tr>\n",
       "      <th>Terry G</th>\n",
       "      <td>b</td>\n",
       "      <td>1</td>\n",
       "      <td>2</td>\n",
       "      <td>2</td>\n",
       "    </tr>\n",
       "    <tr>\n",
       "      <th>Eric</th>\n",
       "      <td>c</td>\n",
       "      <td>5</td>\n",
       "      <td>4</td>\n",
       "      <td>4</td>\n",
       "    </tr>\n",
       "    <tr>\n",
       "      <th>John</th>\n",
       "      <td>d</td>\n",
       "      <td>4</td>\n",
       "      <td>3</td>\n",
       "      <td>1</td>\n",
       "    </tr>\n",
       "    <tr>\n",
       "      <th>Michael</th>\n",
       "      <td>e</td>\n",
       "      <td>3</td>\n",
       "      <td>2</td>\n",
       "      <td>5</td>\n",
       "    </tr>\n",
       "    <tr>\n",
       "      <th>Terry J</th>\n",
       "      <td>f</td>\n",
       "      <td>1</td>\n",
       "      <td>1</td>\n",
       "      <td>4</td>\n",
       "    </tr>\n",
       "  </tbody>\n",
       "</table>\n",
       "</div>"
      ],
      "text/plain": [
       "        ID  Box Office  For Children  Oscar\n",
       "Film                                       \n",
       "Graham   a           4             2      5\n",
       "Terry G  b           1             2      2\n",
       "Eric     c           5             4      4\n",
       "John     d           4             3      1\n",
       "Michael  e           3             2      5\n",
       "Terry J  f           1             1      4"
      ]
     },
     "execution_count": 2,
     "metadata": {},
     "output_type": "execute_result"
    }
   ],
   "source": [
    "users=pd.read_csv(r\"C:\\Users\\archa\\OneDrive\\Desktop\\Downloads\\UserCB.csv\",index_col=1)\n",
    "users"
   ]
  },
  {
   "cell_type": "code",
   "execution_count": 3,
   "id": "1b8fcb14",
   "metadata": {},
   "outputs": [
    {
     "name": "stdout",
     "output_type": "stream",
     "text": [
      "[4 2 5]\n"
     ]
    }
   ],
   "source": [
    "print(users.iloc[0][1:].values)"
   ]
  },
  {
   "cell_type": "code",
   "execution_count": 4,
   "id": "7ec1019a",
   "metadata": {},
   "outputs": [
    {
     "data": {
      "text/plain": [
       "'The Never-ending Story'"
      ]
     },
     "execution_count": 4,
     "metadata": {},
     "output_type": "execute_result"
    }
   ],
   "source": [
    "films.index[2]"
   ]
  },
  {
   "cell_type": "code",
   "execution_count": 5,
   "id": "a130121a",
   "metadata": {},
   "outputs": [],
   "source": [
    "import numpy as np"
   ]
  },
  {
   "cell_type": "code",
   "execution_count": 13,
   "id": "f2dd572b",
   "metadata": {},
   "outputs": [],
   "source": [
    "def content_recom(user,user_df,film_df):\n",
    "    u=user_df.iloc[user][1:].values\n",
    "    print('user experience',u)\n",
    "    u_norm=np.linalg.norm(u) \n",
    "    film_rec=[]\n",
    "    for row in range(film_df.shape[0]):\n",
    "        f_name=film_df.index[row]\n",
    "        f=film_df.iloc[row][1:].values\n",
    "        f_norm=np.linalg.norm(f)\n",
    "        s=np.dot(u,f)/(u_norm*f_norm)\n",
    "        film_rec.append((f_name,s))\n",
    "    print('recomentation',film_rec)\n",
    "    file_rec=sorted(film_rec,key=lambda x:x[1],reverse=True)\n",
    "    return file_rec"
   ]
  },
  {
   "cell_type": "code",
   "execution_count": 14,
   "id": "3050c3e6",
   "metadata": {},
   "outputs": [
    {
     "name": "stdout",
     "output_type": "stream",
     "text": [
      "user experience [4 2 5]\n",
      "recomentation [('Cronos', 0.9128709291752769), ('Life of Brain', 0.7865834032652848), ('The Never-ending Story', 0.6259807120445899), ('Pinocchio', 0.9121485985920118), ('Titanic', 0.9940150117686348)]\n"
     ]
    },
    {
     "data": {
      "text/plain": [
       "[('Titanic', 0.9940150117686348),\n",
       " ('Cronos', 0.9128709291752769),\n",
       " ('Pinocchio', 0.9121485985920118),\n",
       " ('Life of Brain', 0.7865834032652848),\n",
       " ('The Never-ending Story', 0.6259807120445899)]"
      ]
     },
     "execution_count": 14,
     "metadata": {},
     "output_type": "execute_result"
    }
   ],
   "source": [
    "content_recom(0,users,films)"
   ]
  },
  {
   "cell_type": "code",
   "execution_count": null,
   "id": "94d545b4",
   "metadata": {},
   "outputs": [],
   "source": []
  }
 ],
 "metadata": {
  "kernelspec": {
   "display_name": "Python 3 (ipykernel)",
   "language": "python",
   "name": "python3"
  },
  "language_info": {
   "codemirror_mode": {
    "name": "ipython",
    "version": 3
   },
   "file_extension": ".py",
   "mimetype": "text/x-python",
   "name": "python",
   "nbconvert_exporter": "python",
   "pygments_lexer": "ipython3",
   "version": "3.11.5"
  }
 },
 "nbformat": 4,
 "nbformat_minor": 5
}
